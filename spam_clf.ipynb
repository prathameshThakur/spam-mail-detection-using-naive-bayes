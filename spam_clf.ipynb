{
  "nbformat": 4,
  "nbformat_minor": 0,
  "metadata": {
    "colab": {
      "name": "spam_clf",
      "provenance": []
    },
    "kernelspec": {
      "name": "python3",
      "display_name": "Python 3"
    }
  },
  "cells": [
    {
      "cell_type": "markdown",
      "metadata": {
        "id": "-L1Q48GXA16N",
        "colab_type": "text"
      },
      "source": [
        "### Importing required libraries and data\n"
      ]
    },
    {
      "cell_type": "code",
      "metadata": {
        "id": "A7mVghb0NqiJ",
        "colab_type": "code",
        "colab": {}
      },
      "source": [
        "import pandas as pd\n",
        "import numpy as np"
      ],
      "execution_count": null,
      "outputs": []
    },
    {
      "cell_type": "code",
      "metadata": {
        "id": "Edzex9tkN9D6",
        "colab_type": "code",
        "colab": {
          "base_uri": "https://localhost:8080/",
          "height": 204
        },
        "outputId": "4e992b4d-6754-4844-9e59-8fc0a088b9ff"
      },
      "source": [
        "data = pd.read_csv('spam_ham_dataset.csv')\n",
        "data.head()"
      ],
      "execution_count": 2,
      "outputs": [
        {
          "output_type": "execute_result",
          "data": {
            "text/html": [
              "<div>\n",
              "<style scoped>\n",
              "    .dataframe tbody tr th:only-of-type {\n",
              "        vertical-align: middle;\n",
              "    }\n",
              "\n",
              "    .dataframe tbody tr th {\n",
              "        vertical-align: top;\n",
              "    }\n",
              "\n",
              "    .dataframe thead th {\n",
              "        text-align: right;\n",
              "    }\n",
              "</style>\n",
              "<table border=\"1\" class=\"dataframe\">\n",
              "  <thead>\n",
              "    <tr style=\"text-align: right;\">\n",
              "      <th></th>\n",
              "      <th>Unnamed: 0</th>\n",
              "      <th>label</th>\n",
              "      <th>text</th>\n",
              "      <th>label_num</th>\n",
              "    </tr>\n",
              "  </thead>\n",
              "  <tbody>\n",
              "    <tr>\n",
              "      <th>0</th>\n",
              "      <td>605</td>\n",
              "      <td>ham</td>\n",
              "      <td>Subject: enron methanol ; meter # : 988291\\r\\n...</td>\n",
              "      <td>0</td>\n",
              "    </tr>\n",
              "    <tr>\n",
              "      <th>1</th>\n",
              "      <td>2349</td>\n",
              "      <td>ham</td>\n",
              "      <td>Subject: hpl nom for january 9 , 2001\\r\\n( see...</td>\n",
              "      <td>0</td>\n",
              "    </tr>\n",
              "    <tr>\n",
              "      <th>2</th>\n",
              "      <td>3624</td>\n",
              "      <td>ham</td>\n",
              "      <td>Subject: neon retreat\\r\\nho ho ho , we ' re ar...</td>\n",
              "      <td>0</td>\n",
              "    </tr>\n",
              "    <tr>\n",
              "      <th>3</th>\n",
              "      <td>4685</td>\n",
              "      <td>spam</td>\n",
              "      <td>Subject: photoshop , windows , office . cheap ...</td>\n",
              "      <td>1</td>\n",
              "    </tr>\n",
              "    <tr>\n",
              "      <th>4</th>\n",
              "      <td>2030</td>\n",
              "      <td>ham</td>\n",
              "      <td>Subject: re : indian springs\\r\\nthis deal is t...</td>\n",
              "      <td>0</td>\n",
              "    </tr>\n",
              "  </tbody>\n",
              "</table>\n",
              "</div>"
            ],
            "text/plain": [
              "   Unnamed: 0  ... label_num\n",
              "0         605  ...         0\n",
              "1        2349  ...         0\n",
              "2        3624  ...         0\n",
              "3        4685  ...         1\n",
              "4        2030  ...         0\n",
              "\n",
              "[5 rows x 4 columns]"
            ]
          },
          "metadata": {
            "tags": []
          },
          "execution_count": 2
        }
      ]
    },
    {
      "cell_type": "code",
      "metadata": {
        "id": "exuWZD2VPPNo",
        "colab_type": "code",
        "colab": {
          "base_uri": "https://localhost:8080/",
          "height": 204
        },
        "outputId": "52668047-d92e-4853-cf7d-7322b21b22ae"
      },
      "source": [
        "data.drop('Unnamed: 0',axis=1,inplace=True)\n",
        "data.head()"
      ],
      "execution_count": 3,
      "outputs": [
        {
          "output_type": "execute_result",
          "data": {
            "text/html": [
              "<div>\n",
              "<style scoped>\n",
              "    .dataframe tbody tr th:only-of-type {\n",
              "        vertical-align: middle;\n",
              "    }\n",
              "\n",
              "    .dataframe tbody tr th {\n",
              "        vertical-align: top;\n",
              "    }\n",
              "\n",
              "    .dataframe thead th {\n",
              "        text-align: right;\n",
              "    }\n",
              "</style>\n",
              "<table border=\"1\" class=\"dataframe\">\n",
              "  <thead>\n",
              "    <tr style=\"text-align: right;\">\n",
              "      <th></th>\n",
              "      <th>label</th>\n",
              "      <th>text</th>\n",
              "      <th>label_num</th>\n",
              "    </tr>\n",
              "  </thead>\n",
              "  <tbody>\n",
              "    <tr>\n",
              "      <th>0</th>\n",
              "      <td>ham</td>\n",
              "      <td>Subject: enron methanol ; meter # : 988291\\r\\n...</td>\n",
              "      <td>0</td>\n",
              "    </tr>\n",
              "    <tr>\n",
              "      <th>1</th>\n",
              "      <td>ham</td>\n",
              "      <td>Subject: hpl nom for january 9 , 2001\\r\\n( see...</td>\n",
              "      <td>0</td>\n",
              "    </tr>\n",
              "    <tr>\n",
              "      <th>2</th>\n",
              "      <td>ham</td>\n",
              "      <td>Subject: neon retreat\\r\\nho ho ho , we ' re ar...</td>\n",
              "      <td>0</td>\n",
              "    </tr>\n",
              "    <tr>\n",
              "      <th>3</th>\n",
              "      <td>spam</td>\n",
              "      <td>Subject: photoshop , windows , office . cheap ...</td>\n",
              "      <td>1</td>\n",
              "    </tr>\n",
              "    <tr>\n",
              "      <th>4</th>\n",
              "      <td>ham</td>\n",
              "      <td>Subject: re : indian springs\\r\\nthis deal is t...</td>\n",
              "      <td>0</td>\n",
              "    </tr>\n",
              "  </tbody>\n",
              "</table>\n",
              "</div>"
            ],
            "text/plain": [
              "  label                                               text  label_num\n",
              "0   ham  Subject: enron methanol ; meter # : 988291\\r\\n...          0\n",
              "1   ham  Subject: hpl nom for january 9 , 2001\\r\\n( see...          0\n",
              "2   ham  Subject: neon retreat\\r\\nho ho ho , we ' re ar...          0\n",
              "3  spam  Subject: photoshop , windows , office . cheap ...          1\n",
              "4   ham  Subject: re : indian springs\\r\\nthis deal is t...          0"
            ]
          },
          "metadata": {
            "tags": []
          },
          "execution_count": 3
        }
      ]
    },
    {
      "cell_type": "markdown",
      "metadata": {
        "id": "d-tdIIJcCM89",
        "colab_type": "text"
      },
      "source": [
        "### Data Analysis"
      ]
    },
    {
      "cell_type": "code",
      "metadata": {
        "id": "W22d9Qg3RVdp",
        "colab_type": "code",
        "colab": {
          "base_uri": "https://localhost:8080/",
          "height": 34
        },
        "outputId": "ad01526c-0507-4b95-bdfd-4fca5dc51535"
      },
      "source": [
        "data.shape"
      ],
      "execution_count": 4,
      "outputs": [
        {
          "output_type": "execute_result",
          "data": {
            "text/plain": [
              "(5171, 3)"
            ]
          },
          "metadata": {
            "tags": []
          },
          "execution_count": 4
        }
      ]
    },
    {
      "cell_type": "code",
      "metadata": {
        "id": "O2Dj6D6zAuIg",
        "colab_type": "code",
        "colab": {
          "base_uri": "https://localhost:8080/",
          "height": 187
        },
        "outputId": "7cb88d66-d752-4c9c-a34d-7d3aad00f65d"
      },
      "source": [
        "data.info()"
      ],
      "execution_count": 23,
      "outputs": [
        {
          "output_type": "stream",
          "text": [
            "<class 'pandas.core.frame.DataFrame'>\n",
            "RangeIndex: 5171 entries, 0 to 5170\n",
            "Data columns (total 3 columns):\n",
            " #   Column     Non-Null Count  Dtype \n",
            "---  ------     --------------  ----- \n",
            " 0   label      5171 non-null   object\n",
            " 1   text       5171 non-null   object\n",
            " 2   label_num  5171 non-null   int64 \n",
            "dtypes: int64(1), object(2)\n",
            "memory usage: 121.3+ KB\n"
          ],
          "name": "stdout"
        }
      ]
    },
    {
      "cell_type": "code",
      "metadata": {
        "id": "hJI_4NuxQ1Nm",
        "colab_type": "code",
        "colab": {
          "base_uri": "https://localhost:8080/",
          "height": 68
        },
        "outputId": "5a38d3d4-c07f-4be5-a5e9-556a1e1a913a"
      },
      "source": [
        "data.label.value_counts()"
      ],
      "execution_count": 5,
      "outputs": [
        {
          "output_type": "execute_result",
          "data": {
            "text/plain": [
              "ham     3672\n",
              "spam    1499\n",
              "Name: label, dtype: int64"
            ]
          },
          "metadata": {
            "tags": []
          },
          "execution_count": 5
        }
      ]
    },
    {
      "cell_type": "code",
      "metadata": {
        "id": "71CWW_9pSp-O",
        "colab_type": "code",
        "colab": {}
      },
      "source": [
        "X = data.text\n",
        "y = data.label_num"
      ],
      "execution_count": 6,
      "outputs": []
    },
    {
      "cell_type": "code",
      "metadata": {
        "id": "snAAAuOcSaMy",
        "colab_type": "code",
        "colab": {
          "base_uri": "https://localhost:8080/",
          "height": 51
        },
        "outputId": "10fbaaea-fbc1-4a7a-8dfd-43eb822826cc"
      },
      "source": [
        "from sklearn.model_selection import train_test_split\n",
        "X_train, X_test, y_train, y_test = train_test_split(X, y, test_size=0.25, random_state=0)\n",
        "print(X_train.shape)\n",
        "print(X_test.shape)"
      ],
      "execution_count": 7,
      "outputs": [
        {
          "output_type": "stream",
          "text": [
            "(3878,)\n",
            "(1293,)\n"
          ],
          "name": "stdout"
        }
      ]
    },
    {
      "cell_type": "markdown",
      "metadata": {
        "id": "ZR3sN8kTCRqj",
        "colab_type": "text"
      },
      "source": [
        "### Training model"
      ]
    },
    {
      "cell_type": "code",
      "metadata": {
        "id": "aIU88JvHPeWg",
        "colab_type": "code",
        "colab": {}
      },
      "source": [
        "from sklearn.feature_extraction.text import CountVectorizer\n",
        "from sklearn.naive_bayes import MultinomialNB\n",
        "\n",
        "# the data is in text form so we need to convert it in machine understandable \n",
        "# language.. hence we can using CountVectorizer() which  provides a simple way \n",
        "# to both tokenize a collection of text documents and build a vocabulary of known \n",
        "# words, but also to encode new documents using that vocabulary"
      ],
      "execution_count": 8,
      "outputs": []
    },
    {
      "cell_type": "markdown",
      "metadata": {
        "id": "BVWOZbHktCzj",
        "colab_type": "text"
      },
      "source": [
        "###### Method 1"
      ]
    },
    {
      "cell_type": "code",
      "metadata": {
        "colab_type": "code",
        "id": "En0xPQTI6nuE",
        "colab": {}
      },
      "source": [
        "cv = CountVectorizer()\n",
        "mulnomial_model = MultinomialNB()"
      ],
      "execution_count": 9,
      "outputs": []
    },
    {
      "cell_type": "code",
      "metadata": {
        "colab_type": "code",
        "id": "2FuDHx7t6nuH",
        "colab": {}
      },
      "source": [
        "X_count = cv.fit_transform(X_train)  "
      ],
      "execution_count": 10,
      "outputs": []
    },
    {
      "cell_type": "code",
      "metadata": {
        "colab_type": "code",
        "id": "i3Flno6s6nuK",
        "colab": {
          "base_uri": "https://localhost:8080/",
          "height": 34
        },
        "outputId": "dd95a6f4-34cc-4537-aba1-ae78209a2742"
      },
      "source": [
        "mulnomial_model.fit(X_count,y_train)"
      ],
      "execution_count": 11,
      "outputs": [
        {
          "output_type": "execute_result",
          "data": {
            "text/plain": [
              "MultinomialNB(alpha=1.0, class_prior=None, fit_prior=True)"
            ]
          },
          "metadata": {
            "tags": []
          },
          "execution_count": 11
        }
      ]
    },
    {
      "cell_type": "code",
      "metadata": {
        "colab_type": "code",
        "id": "1fMXCr886nuN",
        "colab": {}
      },
      "source": [
        "X_count_test = cv.transform(X_test)"
      ],
      "execution_count": 12,
      "outputs": []
    },
    {
      "cell_type": "code",
      "metadata": {
        "colab_type": "code",
        "id": "NhTvB7K56nuR",
        "colab": {
          "base_uri": "https://localhost:8080/",
          "height": 34
        },
        "outputId": "e23f85a9-bd66-4f52-8945-76ee5587f939"
      },
      "source": [
        "mulnomial_model.score(X_count_test,y_test)*100 # acuracy in %"
      ],
      "execution_count": 13,
      "outputs": [
        {
          "output_type": "execute_result",
          "data": {
            "text/plain": [
              "97.37045630317091"
            ]
          },
          "metadata": {
            "tags": []
          },
          "execution_count": 13
        }
      ]
    },
    {
      "cell_type": "code",
      "metadata": {
        "id": "mRg9HsiqaFlj",
        "colab_type": "code",
        "colab": {}
      },
      "source": [
        "# here I have extracted some mails from by gmail\n",
        "\n",
        "# First and third mail is spam(1) and second is ham(0) or not-spam in the following list!\n",
        "mail =[\"Subject:\tInterested in preparing for SAT / GMAT / GRE?\\nStart Your Online Test Prep Learning with TC Global Today!\\nHi Prathamesh,\\nEveryone worries about prepping for their SAT / GMAT / GRE. Are you worried too? You don’t need to! Cause at TC Global Learning, We got your back!\\nWith all the competition looming around, Test Prep can be that intimidating monster! We understand you ( we’ve been in your shoes! ), and so do our experienced and qualified Test Prep Programme's faculty. We are aware of how difficult and daunting it can be and have designed a pedagogy to help ease your learning and have high scores!\\nOur Virtual TC Global Learning Classes have been designed, keeping YOU in mind. They will\\nExpose you to the world of online learning\\nShowcase how many students like yourself are open to learning digitally\\nAttend tutorials that are smaller in size, so you get individual attention from our faculty!\\nAccess all study materials online!\\nOur Learning platform has additional content like recordings of previous sessions, sectional tests and quizzes and so much more!\\nPersonalized performance reviews and evaluation\\nStart a new batch every week!\\nBook your Free Online demo class today and see what we are talking about!\\nCome, Join the Movement #comejointhemovement\\nSpeak Soon,\\nTC Global\\n© 2019 The Chopras Global Holdings PTE Ltd - All rights reserved.​\", \n",
        "       \"Subject:letter for leave\\nHi Prathamesh,\\nhope you are doing well\\nI'm writing this mail to inform you that I'm on leave from 1/5/20 to 5/5/20.\\nThank you\",\n",
        "       \"Subject: ETHNUS-FREE E certification Registration LINK\\nDear Students,\\nHope the Webinars were helpful & now its time for free certification!\\n#Hurry Up#Rush To Get Free Aptitude Ecertificate#\\nDue to popular demand, we have extended the deadline for clearing the eCertification till 10th April 2020 for the Aptitude topics covered in the Free 7-Day Masterclass.\\nDo share with all your students of all 1st to 4th year of Engineering and your network...!image.png\\nRegister on below link to get Free Ecertificate Test Link through email :-\\nhttps://www.codemithra.com/registerdc\\nEcertificate Test Link:\\nhttps://learn.codemithra.com/login/index.php\\nNote :-\\n1. If you have gave the certification exam then already then we will send the eCertificate on or before 11th April 2020.\\n2. If not took the test then register on the link to get the certification link.\\n#Upcoming Programs#Save Your Dates!\\nAlso we have Free demo classes on AWS & ORACLE Certification from 13th to 19th April at 7 pm daily on our  Telegram Channel to get the link to the webinar! https://t.me/ethnuscodemithra\\n1.13th April :- Overview/ Benefits of ORACLE & AWS Certification.\\n2. 14,15 & 16th April :- Insights of Oracle Complete Certification.\\n3. 17, 18,19th April:- Insights of  AWS Complete Certification.\\nPFA of Upcoming Poster Below!\\nSend Hello Codemithra on 6362910073 to get direct updates on what's app! \\nThanking You & Regards,\\nDevraj Shinde| Customer Relations Manager\\nBusiness Development\\nEthnus - Bangalore\\nMobile: +91 6362910073\"]"
      ],
      "execution_count": 14,
      "outputs": []
    },
    {
      "cell_type": "code",
      "metadata": {
        "id": "j6LME_9vahL1",
        "colab_type": "code",
        "colab": {
          "base_uri": "https://localhost:8080/",
          "height": 343
        },
        "outputId": "9d0f1fde-351d-450a-f9f9-f7bca3e0b8ab"
      },
      "source": [
        "print(mail[0])"
      ],
      "execution_count": 15,
      "outputs": [
        {
          "output_type": "stream",
          "text": [
            "Subject:\tInterested in preparing for SAT / GMAT / GRE?\n",
            "Start Your Online Test Prep Learning with TC Global Today!\n",
            "Hi Prathamesh,\n",
            "Everyone worries about prepping for their SAT / GMAT / GRE. Are you worried too? You don’t need to! Cause at TC Global Learning, We got your back!\n",
            "With all the competition looming around, Test Prep can be that intimidating monster! We understand you ( we’ve been in your shoes! ), and so do our experienced and qualified Test Prep Programme's faculty. We are aware of how difficult and daunting it can be and have designed a pedagogy to help ease your learning and have high scores!\n",
            "Our Virtual TC Global Learning Classes have been designed, keeping YOU in mind. They will\n",
            "Expose you to the world of online learning\n",
            "Showcase how many students like yourself are open to learning digitally\n",
            "Attend tutorials that are smaller in size, so you get individual attention from our faculty!\n",
            "Access all study materials online!\n",
            "Our Learning platform has additional content like recordings of previous sessions, sectional tests and quizzes and so much more!\n",
            "Personalized performance reviews and evaluation\n",
            "Start a new batch every week!\n",
            "Book your Free Online demo class today and see what we are talking about!\n",
            "Come, Join the Movement #comejointhemovement\n",
            "Speak Soon,\n",
            "TC Global\n",
            "© 2019 The Chopras Global Holdings PTE Ltd - All rights reserved.​\n"
          ],
          "name": "stdout"
        }
      ]
    },
    {
      "cell_type": "code",
      "metadata": {
        "colab_type": "code",
        "id": "qn-FQtIa6nuU",
        "colab": {}
      },
      "source": [
        "mail_count = cv.transform(mail)  #encoding the text"
      ],
      "execution_count": 16,
      "outputs": []
    },
    {
      "cell_type": "code",
      "metadata": {
        "colab_type": "code",
        "id": "qBzAkmzA6nuZ",
        "colab": {
          "base_uri": "https://localhost:8080/",
          "height": 34
        },
        "outputId": "f8ed1f6e-dbec-4171-9d6b-bfa2a0d64e55"
      },
      "source": [
        "mulnomial_model.predict(mail_count)     #it gives perfect results for classifying the mail samples "
      ],
      "execution_count": 17,
      "outputs": [
        {
          "output_type": "execute_result",
          "data": {
            "text/plain": [
              "array([1, 0, 1])"
            ]
          },
          "metadata": {
            "tags": []
          },
          "execution_count": 17
        }
      ]
    },
    {
      "cell_type": "markdown",
      "metadata": {
        "id": "oq1lQqC3zjER",
        "colab_type": "text"
      },
      "source": [
        "###### Method 2 "
      ]
    },
    {
      "cell_type": "code",
      "metadata": {
        "id": "iRx30nSGRofE",
        "colab_type": "code",
        "colab": {}
      },
      "source": [
        "from sklearn.pipeline import Pipeline\n",
        "model = Pipeline([\n",
        "                ('Vectorize', CountVectorizer()),\n",
        "                ('multinomial_model', MultinomialNB())\n",
        "                ])"
      ],
      "execution_count": 18,
      "outputs": []
    },
    {
      "cell_type": "code",
      "metadata": {
        "id": "ucG6dBMwS60j",
        "colab_type": "code",
        "colab": {
          "base_uri": "https://localhost:8080/",
          "height": 255
        },
        "outputId": "556c89c7-37de-42eb-de70-4e8ef9df0571"
      },
      "source": [
        "model.fit(X_train, y_train)"
      ],
      "execution_count": 19,
      "outputs": [
        {
          "output_type": "execute_result",
          "data": {
            "text/plain": [
              "Pipeline(memory=None,\n",
              "         steps=[('Vectorize',\n",
              "                 CountVectorizer(analyzer='word', binary=False,\n",
              "                                 decode_error='strict',\n",
              "                                 dtype=<class 'numpy.int64'>, encoding='utf-8',\n",
              "                                 input='content', lowercase=True, max_df=1.0,\n",
              "                                 max_features=None, min_df=1,\n",
              "                                 ngram_range=(1, 1), preprocessor=None,\n",
              "                                 stop_words=None, strip_accents=None,\n",
              "                                 token_pattern='(?u)\\\\b\\\\w\\\\w+\\\\b',\n",
              "                                 tokenizer=None, vocabulary=None)),\n",
              "                ('multinomial_model',\n",
              "                 MultinomialNB(alpha=1.0, class_prior=None, fit_prior=True))],\n",
              "         verbose=False)"
            ]
          },
          "metadata": {
            "tags": []
          },
          "execution_count": 19
        }
      ]
    },
    {
      "cell_type": "code",
      "metadata": {
        "id": "Zsg5cfQjTBez",
        "colab_type": "code",
        "colab": {
          "base_uri": "https://localhost:8080/",
          "height": 34
        },
        "outputId": "501d3707-03a1-443e-9e82-b7352725fc6d"
      },
      "source": [
        "model.predict(X_test)"
      ],
      "execution_count": 20,
      "outputs": [
        {
          "output_type": "execute_result",
          "data": {
            "text/plain": [
              "array([0, 0, 0, ..., 1, 1, 0])"
            ]
          },
          "metadata": {
            "tags": []
          },
          "execution_count": 20
        }
      ]
    },
    {
      "cell_type": "code",
      "metadata": {
        "id": "4ozMgIJNTJmv",
        "colab_type": "code",
        "colab": {
          "base_uri": "https://localhost:8080/",
          "height": 34
        },
        "outputId": "a272ff92-ebae-4325-ced7-bd9768c807ab"
      },
      "source": [
        "model.score(X_test, y_test)*100 # acuracy in %"
      ],
      "execution_count": 21,
      "outputs": [
        {
          "output_type": "execute_result",
          "data": {
            "text/plain": [
              "97.37045630317091"
            ]
          },
          "metadata": {
            "tags": []
          },
          "execution_count": 21
        }
      ]
    },
    {
      "cell_type": "code",
      "metadata": {
        "id": "sEEZnI3q8OiI",
        "colab_type": "code",
        "colab": {
          "base_uri": "https://localhost:8080/",
          "height": 34
        },
        "outputId": "61334c34-4070-4217-f121-f69c217570c1"
      },
      "source": [
        "model.predict(mail)"
      ],
      "execution_count": 22,
      "outputs": [
        {
          "output_type": "execute_result",
          "data": {
            "text/plain": [
              "array([1, 0, 1])"
            ]
          },
          "metadata": {
            "tags": []
          },
          "execution_count": 22
        }
      ]
    }
  ]
}